{
 "cells": [
  {
   "cell_type": "code",
   "execution_count": 1,
   "metadata": {
    "id": "XGimESzvuY1l"
   },
   "outputs": [],
   "source": [
    "import json\n",
    "import numpy as np\n",
    "import pandas as pd\n",
    "from functools import partial\n",
    "from transformers import RobertaTokenizer, RobertaForTokenClassification,AutoTokenizer,AutoModelForTokenClassification, TrainingArguments, Trainer\n",
    "from transformers import DataCollatorForTokenClassification\n",
    "import evaluate\n",
    "from datasets import Dataset\n",
    "from sklearn.model_selection import train_test_split"
   ]
  },
  {
   "cell_type": "code",
   "execution_count": 2,
   "metadata": {
    "id": "hnwuyz6MuY1l"
   },
   "outputs": [],
   "source": [
    "file_path = 'train.json'\n",
    "all_df = pd.read_json(file_path)"
   ]
  },
  {
   "cell_type": "code",
   "execution_count": 3,
   "metadata": {
    "id": "owzEoyoRuY1l",
    "outputId": "e86c4058-96d9-440c-fef0-ce168eb1ae61"
   },
   "outputs": [
    {
     "data": {
      "text/html": [
       "<div>\n",
       "<style scoped>\n",
       "    .dataframe tbody tr th:only-of-type {\n",
       "        vertical-align: middle;\n",
       "    }\n",
       "\n",
       "    .dataframe tbody tr th {\n",
       "        vertical-align: top;\n",
       "    }\n",
       "\n",
       "    .dataframe thead th {\n",
       "        text-align: right;\n",
       "    }\n",
       "</style>\n",
       "<table border=\"1\" class=\"dataframe\">\n",
       "  <thead>\n",
       "    <tr style=\"text-align: right;\">\n",
       "      <th></th>\n",
       "      <th>document</th>\n",
       "      <th>full_text</th>\n",
       "      <th>tokens</th>\n",
       "      <th>trailing_whitespace</th>\n",
       "      <th>labels</th>\n",
       "    </tr>\n",
       "  </thead>\n",
       "  <tbody>\n",
       "    <tr>\n",
       "      <th>0</th>\n",
       "      <td>7</td>\n",
       "      <td>Design Thinking for innovation reflexion-Avril...</td>\n",
       "      <td>[Design, Thinking, for, innovation, reflexion,...</td>\n",
       "      <td>[True, True, True, True, False, False, True, F...</td>\n",
       "      <td>[O, O, O, O, O, O, O, O, O, B-NAME_STUDENT, I-...</td>\n",
       "    </tr>\n",
       "    <tr>\n",
       "      <th>1</th>\n",
       "      <td>10</td>\n",
       "      <td>Diego Estrada\\n\\nDesign Thinking Assignment\\n\\...</td>\n",
       "      <td>[Diego, Estrada, \\n\\n, Design, Thinking, Assig...</td>\n",
       "      <td>[True, False, False, True, True, False, False,...</td>\n",
       "      <td>[B-NAME_STUDENT, I-NAME_STUDENT, O, O, O, O, O...</td>\n",
       "    </tr>\n",
       "    <tr>\n",
       "      <th>2</th>\n",
       "      <td>16</td>\n",
       "      <td>Reporting process\\n\\nby Gilberto Gamboa\\n\\nCha...</td>\n",
       "      <td>[Reporting, process, \\n\\n, by, Gilberto, Gambo...</td>\n",
       "      <td>[True, False, False, True, True, False, False,...</td>\n",
       "      <td>[O, O, O, O, B-NAME_STUDENT, I-NAME_STUDENT, O...</td>\n",
       "    </tr>\n",
       "  </tbody>\n",
       "</table>\n",
       "</div>"
      ],
      "text/plain": [
       "   document                                          full_text  \\\n",
       "0         7  Design Thinking for innovation reflexion-Avril...   \n",
       "1        10  Diego Estrada\\n\\nDesign Thinking Assignment\\n\\...   \n",
       "2        16  Reporting process\\n\\nby Gilberto Gamboa\\n\\nCha...   \n",
       "\n",
       "                                              tokens  \\\n",
       "0  [Design, Thinking, for, innovation, reflexion,...   \n",
       "1  [Diego, Estrada, \\n\\n, Design, Thinking, Assig...   \n",
       "2  [Reporting, process, \\n\\n, by, Gilberto, Gambo...   \n",
       "\n",
       "                                 trailing_whitespace  \\\n",
       "0  [True, True, True, True, False, False, True, F...   \n",
       "1  [True, False, False, True, True, False, False,...   \n",
       "2  [True, False, False, True, True, False, False,...   \n",
       "\n",
       "                                              labels  \n",
       "0  [O, O, O, O, O, O, O, O, O, B-NAME_STUDENT, I-...  \n",
       "1  [B-NAME_STUDENT, I-NAME_STUDENT, O, O, O, O, O...  \n",
       "2  [O, O, O, O, B-NAME_STUDENT, I-NAME_STUDENT, O...  "
      ]
     },
     "execution_count": 3,
     "metadata": {},
     "output_type": "execute_result"
    }
   ],
   "source": [
    "all_df.head(3)"
   ]
  },
  {
   "cell_type": "code",
   "execution_count": 4,
   "metadata": {
    "id": "qzxsgxK1uY1m",
    "outputId": "b5f5307c-eaec-427e-e925-59b2c429d41c"
   },
   "outputs": [
    {
     "name": "stdout",
     "output_type": "stream",
     "text": [
      "4.28.1\n"
     ]
    }
   ],
   "source": [
    "import transformers\n",
    "\n",
    "print(transformers.__version__)"
   ]
  },
  {
   "cell_type": "code",
   "execution_count": 5,
   "metadata": {
    "id": "SjPcCbwduY1m"
   },
   "outputs": [],
   "source": [
    "label_list = ['O','B-NAME_STUDENT','I-NAME_STUDENT','B-EMAIL','I-EMAIL','B-USERNAME','I-USERNAME','B-ID_NUM','I-ID_NUM','B-PHONE_NUM',\n",
    "              'I-PHONE_NUM','B-URL_PERSONAL','I-URL_PERSONAL','B-STREET_ADDRESS','I-STREET_ADDRESS']"
   ]
  },
  {
   "cell_type": "code",
   "execution_count": 6,
   "metadata": {
    "id": "5XDrCzVjuY1m"
   },
   "outputs": [],
   "source": [
    "id2label = {i: label for i, label in enumerate(label_list)}\n",
    "label2id = {v: k for k, v in id2label.items()}"
   ]
  },
  {
   "cell_type": "code",
   "execution_count": 13,
   "metadata": {
    "id": "AgoxDL7auY1m"
   },
   "outputs": [],
   "source": [
    "def mapped_labels(labels):\n",
    "    mapped_labels = pd.DataFrame({\n",
    "                        'mapped_labels': labels\n",
    "                    })['mapped_labels'].map(label2id).tolist()\n",
    "    return mapped_labels\n",
    "all_df['mapped_labels'] = all_df['labels'].apply(create_mapped_labels)"
   ]
  },
  {
   "cell_type": "code",
   "execution_count": 14,
   "metadata": {
    "id": "MdGp4mk9uY1m",
    "outputId": "7e40ad52-b1ff-446e-c5f9-a19225d46f24"
   },
   "outputs": [
    {
     "data": {
      "text/html": [
       "<div>\n",
       "<style scoped>\n",
       "    .dataframe tbody tr th:only-of-type {\n",
       "        vertical-align: middle;\n",
       "    }\n",
       "\n",
       "    .dataframe tbody tr th {\n",
       "        vertical-align: top;\n",
       "    }\n",
       "\n",
       "    .dataframe thead th {\n",
       "        text-align: right;\n",
       "    }\n",
       "</style>\n",
       "<table border=\"1\" class=\"dataframe\">\n",
       "  <thead>\n",
       "    <tr style=\"text-align: right;\">\n",
       "      <th></th>\n",
       "      <th>document</th>\n",
       "      <th>full_text</th>\n",
       "      <th>tokens</th>\n",
       "      <th>trailing_whitespace</th>\n",
       "      <th>labels</th>\n",
       "      <th>mapped_labels</th>\n",
       "      <th>is_labels</th>\n",
       "    </tr>\n",
       "  </thead>\n",
       "  <tbody>\n",
       "    <tr>\n",
       "      <th>0</th>\n",
       "      <td>7</td>\n",
       "      <td>Design Thinking for innovation reflexion-Avril...</td>\n",
       "      <td>[Design, Thinking, for, innovation, reflexion,...</td>\n",
       "      <td>[True, True, True, True, False, False, True, F...</td>\n",
       "      <td>[O, O, O, O, O, O, O, O, O, B-NAME_STUDENT, I-...</td>\n",
       "      <td>[0, 0, 0, 0, 0, 0, 0, 0, 0, 1, 2, 0, 0, 0, 0, ...</td>\n",
       "      <td>True</td>\n",
       "    </tr>\n",
       "    <tr>\n",
       "      <th>1</th>\n",
       "      <td>10</td>\n",
       "      <td>Diego Estrada\\n\\nDesign Thinking Assignment\\n\\...</td>\n",
       "      <td>[Diego, Estrada, \\n\\n, Design, Thinking, Assig...</td>\n",
       "      <td>[True, False, False, True, True, False, False,...</td>\n",
       "      <td>[B-NAME_STUDENT, I-NAME_STUDENT, O, O, O, O, O...</td>\n",
       "      <td>[1, 2, 0, 0, 0, 0, 0, 0, 0, 0, 0, 0, 0, 0, 0, ...</td>\n",
       "      <td>True</td>\n",
       "    </tr>\n",
       "    <tr>\n",
       "      <th>2</th>\n",
       "      <td>16</td>\n",
       "      <td>Reporting process\\n\\nby Gilberto Gamboa\\n\\nCha...</td>\n",
       "      <td>[Reporting, process, \\n\\n, by, Gilberto, Gambo...</td>\n",
       "      <td>[True, False, False, True, True, False, False,...</td>\n",
       "      <td>[O, O, O, O, B-NAME_STUDENT, I-NAME_STUDENT, O...</td>\n",
       "      <td>[0, 0, 0, 0, 1, 2, 0, 0, 0, 0, 0, 0, 0, 0, 0, ...</td>\n",
       "      <td>True</td>\n",
       "    </tr>\n",
       "  </tbody>\n",
       "</table>\n",
       "</div>"
      ],
      "text/plain": [
       "   document                                          full_text  \\\n",
       "0         7  Design Thinking for innovation reflexion-Avril...   \n",
       "1        10  Diego Estrada\\n\\nDesign Thinking Assignment\\n\\...   \n",
       "2        16  Reporting process\\n\\nby Gilberto Gamboa\\n\\nCha...   \n",
       "\n",
       "                                              tokens  \\\n",
       "0  [Design, Thinking, for, innovation, reflexion,...   \n",
       "1  [Diego, Estrada, \\n\\n, Design, Thinking, Assig...   \n",
       "2  [Reporting, process, \\n\\n, by, Gilberto, Gambo...   \n",
       "\n",
       "                                 trailing_whitespace  \\\n",
       "0  [True, True, True, True, False, False, True, F...   \n",
       "1  [True, False, False, True, True, False, False,...   \n",
       "2  [True, False, False, True, True, False, False,...   \n",
       "\n",
       "                                              labels  \\\n",
       "0  [O, O, O, O, O, O, O, O, O, B-NAME_STUDENT, I-...   \n",
       "1  [B-NAME_STUDENT, I-NAME_STUDENT, O, O, O, O, O...   \n",
       "2  [O, O, O, O, B-NAME_STUDENT, I-NAME_STUDENT, O...   \n",
       "\n",
       "                                       mapped_labels  is_labels  \n",
       "0  [0, 0, 0, 0, 0, 0, 0, 0, 0, 1, 2, 0, 0, 0, 0, ...       True  \n",
       "1  [1, 2, 0, 0, 0, 0, 0, 0, 0, 0, 0, 0, 0, 0, 0, ...       True  \n",
       "2  [0, 0, 0, 0, 1, 2, 0, 0, 0, 0, 0, 0, 0, 0, 0, ...       True  "
      ]
     },
     "execution_count": 14,
     "metadata": {},
     "output_type": "execute_result"
    }
   ],
   "source": [
    "all_df['mapped_labels'] = all_df['labels'].apply(create_mapped_labels)\n",
    "all_df.head(3)"
   ]
  },
  {
   "cell_type": "code",
   "execution_count": 15,
   "metadata": {
    "id": "Un3glp1muY1n",
    "outputId": "075caed3-9814-4beb-9b4b-c47e48699f05"
   },
   "outputs": [
    {
     "name": "stdout",
     "output_type": "stream",
     "text": [
      "train data rows: 6126\n",
      "test data rows: 681\n"
     ]
    }
   ],
   "source": [
    "train_set, test_set = train_test_split(all_df, test_size=0.1, shuffle=True, random_state=1278)\n",
    "\n",
    "print(\"train data rows:\", train_set.shape[0])\n",
    "print(\"test data rows:\", test_set.shape[0])"
   ]
  },
  {
   "cell_type": "code",
   "execution_count": 16,
   "metadata": {
    "id": "izqCvwdjuY1n"
   },
   "outputs": [],
   "source": [
    "def create_dataset(df):\n",
    "    ds = Dataset.from_dict({\n",
    "        'document': [d for d in df['document']],\n",
    "        'full_text': [ft for ft in df['full_text']],\n",
    "        'tokens': [t for t in df['tokens']],\n",
    "        'trailing_whitespace': [tw for tw in df['trailing_whitespace']],\n",
    "        'labels': [l for l in df['labels']],\n",
    "        'mapped_labels': [ml for ml in df['mapped_labels']]\n",
    "    })\n",
    "    return ds"
   ]
  },
  {
   "cell_type": "code",
   "execution_count": 17,
   "metadata": {
    "id": "HTZZHtikuY1n"
   },
   "outputs": [],
   "source": [
    "train_ds = create_dataset(train1)\n",
    "valid_ds = create_dataset(valid)"
   ]
  },
  {
   "cell_type": "code",
   "execution_count": 18,
   "metadata": {
    "id": "7DwucxP5uY1n"
   },
   "outputs": [],
   "source": [
    "# model_checkpoint = \"albert/albert-base-v2\"\n",
    "# model_checkpoint = 'FacebookAI/roberta-base'\n",
    "# model_checkpoint = \"ArBert/albert-base-v2-finetuned-ner\"\n",
    "# model_checkpoint = \"google-bert/bert-base-uncased\"\n",
    "# model_checkpoint = \"microsoft/deberta-v3-base\"\n",
    "# model_checkpoint='distilbert/distilbert-base-uncased'"
   ]
  },
  {
   "cell_type": "code",
   "execution_count": 19,
   "metadata": {
    "id": "EHpFsHJHuY1n"
   },
   "outputs": [],
   "source": [
    "tokenizer = AutoTokenizer.from_pretrained(model_checkpoint)"
   ]
  },
  {
   "cell_type": "code",
   "execution_count": 20,
   "metadata": {
    "id": "5s6OoAKAuY1n"
   },
   "outputs": [],
   "source": [
    "def align_labels_with_tokens(labels, word_ids):\n",
    "    new_labels = []\n",
    "    current_word = None\n",
    "    for word_id in word_ids:\n",
    "        if word_id != current_word:\n",
    "            # Start of a new word!\n",
    "            current_word = word_id\n",
    "            label = -100 if word_id is None else labels[word_id]\n",
    "            new_labels.append(label)\n",
    "        elif word_id is None:\n",
    "            # Special token\n",
    "            new_labels.append(-100)\n",
    "        else:\n",
    "            # Same word as previous token\n",
    "            label = labels[word_id]\n",
    "            # If the label is B-XXX we change it to I-XXX\n",
    "            if label % 2 == 1:\n",
    "                label += 1\n",
    "            new_labels.append(label)\n",
    "\n",
    "    return new_labels"
   ]
  },
  {
   "cell_type": "code",
   "execution_count": 21,
   "metadata": {
    "id": "o-hYap5GuY1n"
   },
   "outputs": [],
   "source": [
    "def tokenize_and_align_labels(examples):\n",
    "    tokenized_inputs = tokenizer(\n",
    "        examples[\"tokens\"], truncation=True, is_split_into_words=True, max_length=512\n",
    "    )\n",
    "    all_labels = examples[\"mapped_labels\"]\n",
    "    new_labels = []\n",
    "    for i, labels in enumerate(all_labels):\n",
    "        word_ids = tokenized_inputs.word_ids(i)\n",
    "        new_labels.append(align_labels_with_tokens(labels, word_ids))\n",
    "\n",
    "    tokenized_inputs[\"labels\"] = new_labels\n",
    "    return tokenized_inputs"
   ]
  },
  {
   "cell_type": "code",
   "execution_count": 22,
   "metadata": {
    "colab": {
     "referenced_widgets": [
      "7da5332b371f45efb657c8d03bb777e2",
      "50423401b79940debe9b78bb9a5ec81f"
     ]
    },
    "id": "YflsIfjXuY1n",
    "outputId": "12f51740-5b2c-4e8e-fddf-da2127ba9f29"
   },
   "outputs": [
    {
     "data": {
      "application/vnd.jupyter.widget-view+json": {
       "model_id": "9e7fdeffa3474cf4a6ea0a6fdb297fe9",
       "version_major": 2,
       "version_minor": 0
      },
      "text/plain": [
       "Map:   0%|          | 0/6126 [00:00<?, ? examples/s]"
      ]
     },
     "metadata": {},
     "output_type": "display_data"
    },
    {
     "data": {
      "application/vnd.jupyter.widget-view+json": {
       "model_id": "6ef65c154bbd4c03a1ef6fb4b5e80511",
       "version_major": 2,
       "version_minor": 0
      },
      "text/plain": [
       "Map:   0%|          | 0/681 [00:00<?, ? examples/s]"
      ]
     },
     "metadata": {},
     "output_type": "display_data"
    }
   ],
   "source": [
    "tokenized_train = train_ds.map(\n",
    "    tokenize_and_align_labels,\n",
    "    batched=True\n",
    ")\n",
    "tokenized_valid = valid_ds.map(\n",
    "    tokenize_and_align_labels,\n",
    "    batched=True\n",
    ")"
   ]
  },
  {
   "cell_type": "code",
   "execution_count": 23,
   "metadata": {
    "id": "1_ggfVBhuY1n"
   },
   "outputs": [],
   "source": [
    "data_collator = DataCollatorForTokenClassification(tokenizer=tokenizer, pad_to_multiple_of=16)"
   ]
  },
  {
   "cell_type": "code",
   "execution_count": 24,
   "metadata": {
    "id": "7zlwQCxeuY1n"
   },
   "outputs": [],
   "source": [
    "from seqeval.metrics import recall_score, precision_score\n",
    "from seqeval.metrics import classification_report\n",
    "from seqeval.metrics import f1_score\n",
    "\n",
    "def compute_metrics(p, label_list):\n",
    "    predictions, labels = p\n",
    "    predictions = np.argmax(predictions, axis=2)\n",
    "\n",
    "    # Remove ignored index (special tokens)\n",
    "    true_predictions = [\n",
    "        [label_list[p] for (p, l) in zip(prediction, label) if l != -100]\n",
    "        for prediction, label in zip(predictions, labels)\n",
    "    ]\n",
    "    true_labels = [\n",
    "        [label_list[l] for (p, l) in zip(prediction, label) if l != -100]\n",
    "        for prediction, label in zip(predictions, labels)\n",
    "    ]\n",
    "\n",
    "    recall = recall_score(true_labels, true_predictions)\n",
    "    precision = precision_score(true_labels, true_predictions)\n",
    "    if precision == 0 and recall == 0:\n",
    "        f1_score = 0\n",
    "    else:\n",
    "        f1_score = (1 + 5*5) * recall * precision / (5*5*precision + recall)\n",
    "\n",
    "    results = {\n",
    "        'precision': precision,\n",
    "        'recall': recall,\n",
    "        'f1': f1_score\n",
    "    }\n",
    "    return results"
   ]
  },
  {
   "cell_type": "code",
   "execution_count": 25,
   "metadata": {
    "id": "_UAoRi9LuY1n",
    "outputId": "52e91293-bdaf-42bf-825e-e0572a7de94b"
   },
   "outputs": [
    {
     "name": "stderr",
     "output_type": "stream",
     "text": [
      "Some weights of AlbertForTokenClassification were not initialized from the model checkpoint at ArBert/albert-base-v2-finetuned-ner and are newly initialized because the shapes did not match:\n",
      "- classifier.weight: found shape torch.Size([9, 768]) in the checkpoint and torch.Size([15, 768]) in the model instantiated\n",
      "- classifier.bias: found shape torch.Size([9]) in the checkpoint and torch.Size([15]) in the model instantiated\n",
      "You should probably TRAIN this model on a down-stream task to be able to use it for predictions and inference.\n"
     ]
    }
   ],
   "source": [
    "model = AutoModelForTokenClassification.from_pretrained(\n",
    "    model_checkpoint,\n",
    "    num_labels=15,\n",
    "    id2label=id2label,\n",
    "    label2id=label2id,\n",
    "    ignore_mismatched_sizes=True\n",
    ")"
   ]
  },
  {
   "cell_type": "code",
   "execution_count": 26,
   "metadata": {
    "id": "1gLsi1l0uY1n"
   },
   "outputs": [],
   "source": [
    "training_args = TrainingArguments(\n",
    "    output_dir='output',\n",
    "    learning_rate=2.5e-5,\n",
    "    per_device_train_batch_size=1,\n",
    "    per_device_eval_batch_size=1,\n",
    "    num_train_epochs=3,\n",
    "    weight_decay=0.02,\n",
    "    evaluation_strategy='epoch',\n",
    "    save_strategy='epoch',\n",
    "    load_best_model_at_end=True,\n",
    "    report_to='none'\n",
    ")"
   ]
  },
  {
   "cell_type": "code",
   "execution_count": 27,
   "metadata": {
    "id": "hh0pUfLXuY1n"
   },
   "outputs": [],
   "source": [
    "def make_trainer(train, valid):\n",
    "    trainer = Trainer(\n",
    "        model=model,\n",
    "        args=training_args,\n",
    "        train_dataset=train,\n",
    "        eval_dataset=valid,\n",
    "        tokenizer=tokenizer,\n",
    "        data_collator=data_collator,\n",
    "        compute_metrics=partial(compute_metrics, label_list=label_list)\n",
    "    )\n",
    "    return trainer"
   ]
  },
  {
   "cell_type": "code",
   "execution_count": 28,
   "metadata": {},
   "outputs": [
    {
     "name": "stderr",
     "output_type": "stream",
     "text": [
      "You're using a AlbertTokenizerFast tokenizer. Please note that with a fast tokenizer, using the `__call__` method is faster than using a method to encode the text followed by a call to the `pad` method to get a padded encoding.\n"
     ]
    },
    {
     "data": {
      "text/html": [
       "\n",
       "    <div>\n",
       "      \n",
       "      <progress value='681' max='681' style='width:300px; height:20px; vertical-align: middle;'></progress>\n",
       "      [681/681 00:13]\n",
       "    </div>\n",
       "    "
      ],
      "text/plain": [
       "<IPython.core.display.HTML object>"
      ]
     },
     "metadata": {},
     "output_type": "display_data"
    },
    {
     "name": "stdout",
     "output_type": "stream",
     "text": [
      "pretrained model non-finetuned results:  {'eval_loss': 2.8416874408721924, 'eval_precision': 0.0, 'eval_recall': 0.0, 'eval_f1': 0, 'eval_runtime': 16.5265, 'eval_samples_per_second': 41.206, 'eval_steps_per_second': 41.206}\n"
     ]
    }
   ],
   "source": [
    "trainer = make_trainer(tokenized_train, tokenized_valid)\n",
    "untrained_eval_results = trainer.evaluate(tokenized_valid)\n",
    "print('pretrained model non-finetuned results: ',untrained_eval_results)"
   ]
  },
  {
   "cell_type": "code",
   "execution_count": 30,
   "metadata": {
    "id": "R88GQSiGuY1o",
    "outputId": "7a09d441-47d9-4313-c056-177c20a17b25"
   },
   "outputs": [
    {
     "name": "stdout",
     "output_type": "stream",
     "text": [
      "Starting training...\n"
     ]
    }
   ],
   "source": [
    "trainer = make_trainer(tokenized_train, tokenized_valid)\n",
    "print(\"Starting training...\")\n",
    "trainer.train()"
   ]
  },
  {
   "cell_type": "markdown",
   "metadata": {
    "id": "0JIyJ23QuY1o"
   },
   "source": [
    "################################Further enhancement on the optimal Model: Roberta ###############################"
   ]
  },
  {
   "cell_type": "code",
   "execution_count": 2,
   "metadata": {
    "id": "-MVgGoHCuY1o",
    "outputId": "44539491-8752-4331-edb3-a6dbad69418f"
   },
   "outputs": [
    {
     "data": {
      "text/html": [
       "<div>\n",
       "<style scoped>\n",
       "    .dataframe tbody tr th:only-of-type {\n",
       "        vertical-align: middle;\n",
       "    }\n",
       "\n",
       "    .dataframe tbody tr th {\n",
       "        vertical-align: top;\n",
       "    }\n",
       "\n",
       "    .dataframe thead th {\n",
       "        text-align: right;\n",
       "    }\n",
       "</style>\n",
       "<table border=\"1\" class=\"dataframe\">\n",
       "  <thead>\n",
       "    <tr style=\"text-align: right;\">\n",
       "      <th></th>\n",
       "      <th>document</th>\n",
       "      <th>full_text</th>\n",
       "      <th>tokens</th>\n",
       "      <th>trailing_whitespace</th>\n",
       "      <th>labels</th>\n",
       "    </tr>\n",
       "  </thead>\n",
       "  <tbody>\n",
       "    <tr>\n",
       "      <th>0</th>\n",
       "      <td>7</td>\n",
       "      <td>Design Thinking for innovation reflexion-Avril...</td>\n",
       "      <td>[Design, Thinking, for, innovation, reflexion,...</td>\n",
       "      <td>[True, True, True, True, False, False, True, F...</td>\n",
       "      <td>[O, O, O, O, O, O, O, O, O, B-NAME_STUDENT, I-...</td>\n",
       "    </tr>\n",
       "    <tr>\n",
       "      <th>1</th>\n",
       "      <td>10</td>\n",
       "      <td>Diego Estrada\\n\\nDesign Thinking Assignment\\n\\...</td>\n",
       "      <td>[Diego, Estrada, \\n\\n, Design, Thinking, Assig...</td>\n",
       "      <td>[True, False, False, True, True, False, False,...</td>\n",
       "      <td>[B-NAME_STUDENT, I-NAME_STUDENT, O, O, O, O, O...</td>\n",
       "    </tr>\n",
       "    <tr>\n",
       "      <th>2</th>\n",
       "      <td>16</td>\n",
       "      <td>Reporting process\\n\\nby Gilberto Gamboa\\n\\nCha...</td>\n",
       "      <td>[Reporting, process, \\n\\n, by, Gilberto, Gambo...</td>\n",
       "      <td>[True, False, False, True, True, False, False,...</td>\n",
       "      <td>[O, O, O, O, B-NAME_STUDENT, I-NAME_STUDENT, O...</td>\n",
       "    </tr>\n",
       "  </tbody>\n",
       "</table>\n",
       "</div>"
      ],
      "text/plain": [
       "   document                                          full_text  \\\n",
       "0         7  Design Thinking for innovation reflexion-Avril...   \n",
       "1        10  Diego Estrada\\n\\nDesign Thinking Assignment\\n\\...   \n",
       "2        16  Reporting process\\n\\nby Gilberto Gamboa\\n\\nCha...   \n",
       "\n",
       "                                              tokens  \\\n",
       "0  [Design, Thinking, for, innovation, reflexion,...   \n",
       "1  [Diego, Estrada, \\n\\n, Design, Thinking, Assig...   \n",
       "2  [Reporting, process, \\n\\n, by, Gilberto, Gambo...   \n",
       "\n",
       "                                 trailing_whitespace  \\\n",
       "0  [True, True, True, True, False, False, True, F...   \n",
       "1  [True, False, False, True, True, False, False,...   \n",
       "2  [True, False, False, True, True, False, False,...   \n",
       "\n",
       "                                              labels  \n",
       "0  [O, O, O, O, O, O, O, O, O, B-NAME_STUDENT, I-...  \n",
       "1  [B-NAME_STUDENT, I-NAME_STUDENT, O, O, O, O, O...  \n",
       "2  [O, O, O, O, B-NAME_STUDENT, I-NAME_STUDENT, O...  "
      ]
     },
     "execution_count": 2,
     "metadata": {},
     "output_type": "execute_result"
    }
   ],
   "source": [
    "## load original train set which is same as above fine tune process\n",
    "file_path = 'train.json'\n",
    "all_df = pd.read_json(file_path)\n",
    "all_df.head(3)"
   ]
  },
  {
   "cell_type": "code",
   "execution_count": 3,
   "metadata": {},
   "outputs": [
    {
     "name": "stdout",
     "output_type": "stream",
     "text": [
      "train data rows: 6126\n",
      "test data rows: 681\n"
     ]
    }
   ],
   "source": [
    "# Create the same test set as above fine tined process\n",
    "train_set, test_set = train_test_split(all_df, test_size=0.1, shuffle=True, random_state=1278)\n",
    "print(\"train data rows:\", train_set.shape[0])\n",
    "print(\"test data rows:\", test_set.shape[0])"
   ]
  },
  {
   "cell_type": "code",
   "execution_count": 20,
   "metadata": {},
   "outputs": [
    {
     "data": {
      "text/html": [
       "<div>\n",
       "<style scoped>\n",
       "    .dataframe tbody tr th:only-of-type {\n",
       "        vertical-align: middle;\n",
       "    }\n",
       "\n",
       "    .dataframe tbody tr th {\n",
       "        vertical-align: top;\n",
       "    }\n",
       "\n",
       "    .dataframe thead th {\n",
       "        text-align: right;\n",
       "    }\n",
       "</style>\n",
       "<table border=\"1\" class=\"dataframe\">\n",
       "  <thead>\n",
       "    <tr style=\"text-align: right;\">\n",
       "      <th></th>\n",
       "      <th>document</th>\n",
       "      <th>full_text</th>\n",
       "      <th>tokens</th>\n",
       "      <th>trailing_whitespace</th>\n",
       "      <th>labels</th>\n",
       "    </tr>\n",
       "  </thead>\n",
       "  <tbody>\n",
       "    <tr>\n",
       "      <th>0</th>\n",
       "      <td>1073d46f-2241-459b-ab01-851be8d26436</td>\n",
       "      <td>My name is Aaliyah Popova, and I am a jeweler ...</td>\n",
       "      <td>[My, name, is, Aaliyah, Popova,, and, I, am, a...</td>\n",
       "      <td>[True, True, True, True, True, True, True, Tru...</td>\n",
       "      <td>[O, O, O, B-NAME_STUDENT, I-NAME_STUDENT, O, O...</td>\n",
       "    </tr>\n",
       "    <tr>\n",
       "      <th>1</th>\n",
       "      <td>5ec717a9-17ee-48cd-9d76-30ae256c9354</td>\n",
       "      <td>My name is Konstantin Becker, and I'm a develo...</td>\n",
       "      <td>[My, name, is, Konstantin, Becker,, and, I'm, ...</td>\n",
       "      <td>[True, True, True, True, True, True, True, Tru...</td>\n",
       "      <td>[O, O, O, B-NAME_STUDENT, I-NAME_STUDENT, O, O...</td>\n",
       "    </tr>\n",
       "    <tr>\n",
       "      <th>2</th>\n",
       "      <td>353da41e-7799-4071-ab20-d959b362612e</td>\n",
       "      <td>As Mieko Mitsubishi, an account manager at a p...</td>\n",
       "      <td>[As, Mieko, Mitsubishi,, an, account, manager,...</td>\n",
       "      <td>[True, True, True, True, True, True, True, Tru...</td>\n",
       "      <td>[O, B-NAME_STUDENT, I-NAME_STUDENT, O, O, O, O...</td>\n",
       "    </tr>\n",
       "    <tr>\n",
       "      <th>3</th>\n",
       "      <td>9324ee01-7bdc-41b1-a7a5-01307f72c20d</td>\n",
       "      <td>My name is Kazuo Sun, and I'm an air traffic c...</td>\n",
       "      <td>[My, name, is, Kazuo, Sun,, and, I'm, an, air,...</td>\n",
       "      <td>[True, True, True, True, True, True, True, Tru...</td>\n",
       "      <td>[O, O, O, B-NAME_STUDENT, I-NAME_STUDENT, O, O...</td>\n",
       "    </tr>\n",
       "    <tr>\n",
       "      <th>4</th>\n",
       "      <td>971fe266-2739-4f1b-979b-7f64e07d5a4a</td>\n",
       "      <td>My name is Arina Sun, and I'm a dental hygieni...</td>\n",
       "      <td>[My, name, is, Arina, Sun,, and, I'm, a, denta...</td>\n",
       "      <td>[True, True, True, True, True, True, True, Tru...</td>\n",
       "      <td>[O, O, O, B-NAME_STUDENT, I-NAME_STUDENT, O, O...</td>\n",
       "    </tr>\n",
       "    <tr>\n",
       "      <th>...</th>\n",
       "      <td>...</td>\n",
       "      <td>...</td>\n",
       "      <td>...</td>\n",
       "      <td>...</td>\n",
       "      <td>...</td>\n",
       "    </tr>\n",
       "    <tr>\n",
       "      <th>4429</th>\n",
       "      <td>a90b6b71-0e77-4089-a3a4-9a5b5c5aec78</td>\n",
       "      <td>Hello, I'm Nicholas Moore, a man with a rich t...</td>\n",
       "      <td>[Hello,, I'm, Nicholas, Moore,, a, man, with, ...</td>\n",
       "      <td>[True, True, True, True, True, True, True, Tru...</td>\n",
       "      <td>[O, O, B-NAME_STUDENT, I-NAME_STUDENT, O, O, O...</td>\n",
       "    </tr>\n",
       "    <tr>\n",
       "      <th>4430</th>\n",
       "      <td>1492ed0e-f162-424f-9c40-f3edde790ca1</td>\n",
       "      <td>Hello, my name is Alexey Novikov and I'm a psy...</td>\n",
       "      <td>[Hello,, my, name, is, Alexey, Novikov, and, I...</td>\n",
       "      <td>[True, True, True, True, True, True, True, Tru...</td>\n",
       "      <td>[O, O, O, O, B-NAME_STUDENT, I-NAME_STUDENT, O...</td>\n",
       "    </tr>\n",
       "    <tr>\n",
       "      <th>4431</th>\n",
       "      <td>57ef34c1-48db-4413-9573-774021e57f63</td>\n",
       "      <td>My name is Ludmila Inoue, and I'm a person wit...</td>\n",
       "      <td>[My, name, is, Ludmila, Inoue,, and, I'm, a, p...</td>\n",
       "      <td>[True, True, True, True, True, True, True, Tru...</td>\n",
       "      <td>[O, O, O, B-NAME_STUDENT, I-NAME_STUDENT, O, O...</td>\n",
       "    </tr>\n",
       "    <tr>\n",
       "      <th>4432</th>\n",
       "      <td>a4486627-1c62-48b0-bf4f-53259ecc0a28</td>\n",
       "      <td>Dr. Tu Garcia, a renowned dermatologist, embar...</td>\n",
       "      <td>[Dr., Tu, Garcia,, a, renowned, dermatologist,...</td>\n",
       "      <td>[True, True, True, True, True, True, True, Tru...</td>\n",
       "      <td>[O, B-NAME_STUDENT, I-NAME_STUDENT, O, O, O, O...</td>\n",
       "    </tr>\n",
       "    <tr>\n",
       "      <th>4433</th>\n",
       "      <td>3f580963-3dbf-4c2f-95c1-16b7c8697d4b</td>\n",
       "      <td>Hello, I'm Badi Nakamura, and I work as a prog...</td>\n",
       "      <td>[Hello,, I'm, Badi, Nakamura,, and, I, work, a...</td>\n",
       "      <td>[True, True, True, True, True, True, True, Tru...</td>\n",
       "      <td>[O, O, B-NAME_STUDENT, I-NAME_STUDENT, O, O, O...</td>\n",
       "    </tr>\n",
       "  </tbody>\n",
       "</table>\n",
       "<p>4434 rows × 5 columns</p>\n",
       "</div>"
      ],
      "text/plain": [
       "                                  document  \\\n",
       "0     1073d46f-2241-459b-ab01-851be8d26436   \n",
       "1     5ec717a9-17ee-48cd-9d76-30ae256c9354   \n",
       "2     353da41e-7799-4071-ab20-d959b362612e   \n",
       "3     9324ee01-7bdc-41b1-a7a5-01307f72c20d   \n",
       "4     971fe266-2739-4f1b-979b-7f64e07d5a4a   \n",
       "...                                    ...   \n",
       "4429  a90b6b71-0e77-4089-a3a4-9a5b5c5aec78   \n",
       "4430  1492ed0e-f162-424f-9c40-f3edde790ca1   \n",
       "4431  57ef34c1-48db-4413-9573-774021e57f63   \n",
       "4432  a4486627-1c62-48b0-bf4f-53259ecc0a28   \n",
       "4433  3f580963-3dbf-4c2f-95c1-16b7c8697d4b   \n",
       "\n",
       "                                              full_text  \\\n",
       "0     My name is Aaliyah Popova, and I am a jeweler ...   \n",
       "1     My name is Konstantin Becker, and I'm a develo...   \n",
       "2     As Mieko Mitsubishi, an account manager at a p...   \n",
       "3     My name is Kazuo Sun, and I'm an air traffic c...   \n",
       "4     My name is Arina Sun, and I'm a dental hygieni...   \n",
       "...                                                 ...   \n",
       "4429  Hello, I'm Nicholas Moore, a man with a rich t...   \n",
       "4430  Hello, my name is Alexey Novikov and I'm a psy...   \n",
       "4431  My name is Ludmila Inoue, and I'm a person wit...   \n",
       "4432  Dr. Tu Garcia, a renowned dermatologist, embar...   \n",
       "4433  Hello, I'm Badi Nakamura, and I work as a prog...   \n",
       "\n",
       "                                                 tokens  \\\n",
       "0     [My, name, is, Aaliyah, Popova,, and, I, am, a...   \n",
       "1     [My, name, is, Konstantin, Becker,, and, I'm, ...   \n",
       "2     [As, Mieko, Mitsubishi,, an, account, manager,...   \n",
       "3     [My, name, is, Kazuo, Sun,, and, I'm, an, air,...   \n",
       "4     [My, name, is, Arina, Sun,, and, I'm, a, denta...   \n",
       "...                                                 ...   \n",
       "4429  [Hello,, I'm, Nicholas, Moore,, a, man, with, ...   \n",
       "4430  [Hello,, my, name, is, Alexey, Novikov, and, I...   \n",
       "4431  [My, name, is, Ludmila, Inoue,, and, I'm, a, p...   \n",
       "4432  [Dr., Tu, Garcia,, a, renowned, dermatologist,...   \n",
       "4433  [Hello,, I'm, Badi, Nakamura,, and, I, work, a...   \n",
       "\n",
       "                                    trailing_whitespace  \\\n",
       "0     [True, True, True, True, True, True, True, Tru...   \n",
       "1     [True, True, True, True, True, True, True, Tru...   \n",
       "2     [True, True, True, True, True, True, True, Tru...   \n",
       "3     [True, True, True, True, True, True, True, Tru...   \n",
       "4     [True, True, True, True, True, True, True, Tru...   \n",
       "...                                                 ...   \n",
       "4429  [True, True, True, True, True, True, True, Tru...   \n",
       "4430  [True, True, True, True, True, True, True, Tru...   \n",
       "4431  [True, True, True, True, True, True, True, Tru...   \n",
       "4432  [True, True, True, True, True, True, True, Tru...   \n",
       "4433  [True, True, True, True, True, True, True, Tru...   \n",
       "\n",
       "                                                 labels  \n",
       "0     [O, O, O, B-NAME_STUDENT, I-NAME_STUDENT, O, O...  \n",
       "1     [O, O, O, B-NAME_STUDENT, I-NAME_STUDENT, O, O...  \n",
       "2     [O, B-NAME_STUDENT, I-NAME_STUDENT, O, O, O, O...  \n",
       "3     [O, O, O, B-NAME_STUDENT, I-NAME_STUDENT, O, O...  \n",
       "4     [O, O, O, B-NAME_STUDENT, I-NAME_STUDENT, O, O...  \n",
       "...                                                 ...  \n",
       "4429  [O, O, B-NAME_STUDENT, I-NAME_STUDENT, O, O, O...  \n",
       "4430  [O, O, O, O, B-NAME_STUDENT, I-NAME_STUDENT, O...  \n",
       "4431  [O, O, O, B-NAME_STUDENT, I-NAME_STUDENT, O, O...  \n",
       "4432  [O, B-NAME_STUDENT, I-NAME_STUDENT, O, O, O, O...  \n",
       "4433  [O, O, B-NAME_STUDENT, I-NAME_STUDENT, O, O, O...  \n",
       "\n",
       "[4434 rows x 5 columns]"
      ]
     },
     "execution_count": 20,
     "metadata": {},
     "output_type": "execute_result"
    }
   ],
   "source": [
    "### load external dataset generated by LLM ###\n",
    "from ast import literal_eval\n",
    "df_train_external = pd.read_csv('C:\\\\Users\\\\Admin\\\\Downloads\\\\pii_dataset.csv', converters={\n",
    "    'tokens': literal_eval,\n",
    "    'labels': literal_eval,\n",
    "    'trailing_whitespace': literal_eval\n",
    "})\n",
    "df_train_external.rename(columns={'text': 'full_text'}, inplace=True) ## keep same column name as original dataset\n",
    "df_train_external = df_train_external.iloc[:, :5]  ## only select necessary columns\n",
    "df_train_external"
   ]
  },
  {
   "cell_type": "code",
   "execution_count": 31,
   "metadata": {},
   "outputs": [
    {
     "name": "stdout",
     "output_type": "stream",
     "text": [
      "Last doc id used: 22687\n"
     ]
    }
   ],
   "source": [
    "train_set.document = train_set.document.astype(int)\n",
    "max_doc_id = train_set.document.max()\n",
    "print(\"Last doc id used:\", max_doc_id)\n",
    "df_train_external.document = pd.Series(np.arange(max_doc_id+1, max_doc_id+1+len(df_train_external)))"
   ]
  },
  {
   "cell_type": "code",
   "execution_count": 32,
   "metadata": {},
   "outputs": [
    {
     "data": {
      "text/html": [
       "<div>\n",
       "<style scoped>\n",
       "    .dataframe tbody tr th:only-of-type {\n",
       "        vertical-align: middle;\n",
       "    }\n",
       "\n",
       "    .dataframe tbody tr th {\n",
       "        vertical-align: top;\n",
       "    }\n",
       "\n",
       "    .dataframe thead th {\n",
       "        text-align: right;\n",
       "    }\n",
       "</style>\n",
       "<table border=\"1\" class=\"dataframe\">\n",
       "  <thead>\n",
       "    <tr style=\"text-align: right;\">\n",
       "      <th></th>\n",
       "      <th>document</th>\n",
       "      <th>full_text</th>\n",
       "      <th>tokens</th>\n",
       "      <th>trailing_whitespace</th>\n",
       "      <th>labels</th>\n",
       "    </tr>\n",
       "  </thead>\n",
       "  <tbody>\n",
       "    <tr>\n",
       "      <th>0</th>\n",
       "      <td>22688</td>\n",
       "      <td>My name is Aaliyah Popova, and I am a jeweler ...</td>\n",
       "      <td>[My, name, is, Aaliyah, Popova,, and, I, am, a...</td>\n",
       "      <td>[True, True, True, True, True, True, True, Tru...</td>\n",
       "      <td>[O, O, O, B-NAME_STUDENT, I-NAME_STUDENT, O, O...</td>\n",
       "    </tr>\n",
       "    <tr>\n",
       "      <th>1</th>\n",
       "      <td>22689</td>\n",
       "      <td>My name is Konstantin Becker, and I'm a develo...</td>\n",
       "      <td>[My, name, is, Konstantin, Becker,, and, I'm, ...</td>\n",
       "      <td>[True, True, True, True, True, True, True, Tru...</td>\n",
       "      <td>[O, O, O, B-NAME_STUDENT, I-NAME_STUDENT, O, O...</td>\n",
       "    </tr>\n",
       "    <tr>\n",
       "      <th>2</th>\n",
       "      <td>22690</td>\n",
       "      <td>As Mieko Mitsubishi, an account manager at a p...</td>\n",
       "      <td>[As, Mieko, Mitsubishi,, an, account, manager,...</td>\n",
       "      <td>[True, True, True, True, True, True, True, Tru...</td>\n",
       "      <td>[O, B-NAME_STUDENT, I-NAME_STUDENT, O, O, O, O...</td>\n",
       "    </tr>\n",
       "    <tr>\n",
       "      <th>3</th>\n",
       "      <td>22691</td>\n",
       "      <td>My name is Kazuo Sun, and I'm an air traffic c...</td>\n",
       "      <td>[My, name, is, Kazuo, Sun,, and, I'm, an, air,...</td>\n",
       "      <td>[True, True, True, True, True, True, True, Tru...</td>\n",
       "      <td>[O, O, O, B-NAME_STUDENT, I-NAME_STUDENT, O, O...</td>\n",
       "    </tr>\n",
       "    <tr>\n",
       "      <th>4</th>\n",
       "      <td>22692</td>\n",
       "      <td>My name is Arina Sun, and I'm a dental hygieni...</td>\n",
       "      <td>[My, name, is, Arina, Sun,, and, I'm, a, denta...</td>\n",
       "      <td>[True, True, True, True, True, True, True, Tru...</td>\n",
       "      <td>[O, O, O, B-NAME_STUDENT, I-NAME_STUDENT, O, O...</td>\n",
       "    </tr>\n",
       "    <tr>\n",
       "      <th>...</th>\n",
       "      <td>...</td>\n",
       "      <td>...</td>\n",
       "      <td>...</td>\n",
       "      <td>...</td>\n",
       "      <td>...</td>\n",
       "    </tr>\n",
       "    <tr>\n",
       "      <th>4429</th>\n",
       "      <td>27117</td>\n",
       "      <td>Hello, I'm Nicholas Moore, a man with a rich t...</td>\n",
       "      <td>[Hello,, I'm, Nicholas, Moore,, a, man, with, ...</td>\n",
       "      <td>[True, True, True, True, True, True, True, Tru...</td>\n",
       "      <td>[O, O, B-NAME_STUDENT, I-NAME_STUDENT, O, O, O...</td>\n",
       "    </tr>\n",
       "    <tr>\n",
       "      <th>4430</th>\n",
       "      <td>27118</td>\n",
       "      <td>Hello, my name is Alexey Novikov and I'm a psy...</td>\n",
       "      <td>[Hello,, my, name, is, Alexey, Novikov, and, I...</td>\n",
       "      <td>[True, True, True, True, True, True, True, Tru...</td>\n",
       "      <td>[O, O, O, O, B-NAME_STUDENT, I-NAME_STUDENT, O...</td>\n",
       "    </tr>\n",
       "    <tr>\n",
       "      <th>4431</th>\n",
       "      <td>27119</td>\n",
       "      <td>My name is Ludmila Inoue, and I'm a person wit...</td>\n",
       "      <td>[My, name, is, Ludmila, Inoue,, and, I'm, a, p...</td>\n",
       "      <td>[True, True, True, True, True, True, True, Tru...</td>\n",
       "      <td>[O, O, O, B-NAME_STUDENT, I-NAME_STUDENT, O, O...</td>\n",
       "    </tr>\n",
       "    <tr>\n",
       "      <th>4432</th>\n",
       "      <td>27120</td>\n",
       "      <td>Dr. Tu Garcia, a renowned dermatologist, embar...</td>\n",
       "      <td>[Dr., Tu, Garcia,, a, renowned, dermatologist,...</td>\n",
       "      <td>[True, True, True, True, True, True, True, Tru...</td>\n",
       "      <td>[O, B-NAME_STUDENT, I-NAME_STUDENT, O, O, O, O...</td>\n",
       "    </tr>\n",
       "    <tr>\n",
       "      <th>4433</th>\n",
       "      <td>27121</td>\n",
       "      <td>Hello, I'm Badi Nakamura, and I work as a prog...</td>\n",
       "      <td>[Hello,, I'm, Badi, Nakamura,, and, I, work, a...</td>\n",
       "      <td>[True, True, True, True, True, True, True, Tru...</td>\n",
       "      <td>[O, O, B-NAME_STUDENT, I-NAME_STUDENT, O, O, O...</td>\n",
       "    </tr>\n",
       "  </tbody>\n",
       "</table>\n",
       "<p>4434 rows × 5 columns</p>\n",
       "</div>"
      ],
      "text/plain": [
       "      document                                          full_text  \\\n",
       "0        22688  My name is Aaliyah Popova, and I am a jeweler ...   \n",
       "1        22689  My name is Konstantin Becker, and I'm a develo...   \n",
       "2        22690  As Mieko Mitsubishi, an account manager at a p...   \n",
       "3        22691  My name is Kazuo Sun, and I'm an air traffic c...   \n",
       "4        22692  My name is Arina Sun, and I'm a dental hygieni...   \n",
       "...        ...                                                ...   \n",
       "4429     27117  Hello, I'm Nicholas Moore, a man with a rich t...   \n",
       "4430     27118  Hello, my name is Alexey Novikov and I'm a psy...   \n",
       "4431     27119  My name is Ludmila Inoue, and I'm a person wit...   \n",
       "4432     27120  Dr. Tu Garcia, a renowned dermatologist, embar...   \n",
       "4433     27121  Hello, I'm Badi Nakamura, and I work as a prog...   \n",
       "\n",
       "                                                 tokens  \\\n",
       "0     [My, name, is, Aaliyah, Popova,, and, I, am, a...   \n",
       "1     [My, name, is, Konstantin, Becker,, and, I'm, ...   \n",
       "2     [As, Mieko, Mitsubishi,, an, account, manager,...   \n",
       "3     [My, name, is, Kazuo, Sun,, and, I'm, an, air,...   \n",
       "4     [My, name, is, Arina, Sun,, and, I'm, a, denta...   \n",
       "...                                                 ...   \n",
       "4429  [Hello,, I'm, Nicholas, Moore,, a, man, with, ...   \n",
       "4430  [Hello,, my, name, is, Alexey, Novikov, and, I...   \n",
       "4431  [My, name, is, Ludmila, Inoue,, and, I'm, a, p...   \n",
       "4432  [Dr., Tu, Garcia,, a, renowned, dermatologist,...   \n",
       "4433  [Hello,, I'm, Badi, Nakamura,, and, I, work, a...   \n",
       "\n",
       "                                    trailing_whitespace  \\\n",
       "0     [True, True, True, True, True, True, True, Tru...   \n",
       "1     [True, True, True, True, True, True, True, Tru...   \n",
       "2     [True, True, True, True, True, True, True, Tru...   \n",
       "3     [True, True, True, True, True, True, True, Tru...   \n",
       "4     [True, True, True, True, True, True, True, Tru...   \n",
       "...                                                 ...   \n",
       "4429  [True, True, True, True, True, True, True, Tru...   \n",
       "4430  [True, True, True, True, True, True, True, Tru...   \n",
       "4431  [True, True, True, True, True, True, True, Tru...   \n",
       "4432  [True, True, True, True, True, True, True, Tru...   \n",
       "4433  [True, True, True, True, True, True, True, Tru...   \n",
       "\n",
       "                                                 labels  \n",
       "0     [O, O, O, B-NAME_STUDENT, I-NAME_STUDENT, O, O...  \n",
       "1     [O, O, O, B-NAME_STUDENT, I-NAME_STUDENT, O, O...  \n",
       "2     [O, B-NAME_STUDENT, I-NAME_STUDENT, O, O, O, O...  \n",
       "3     [O, O, O, B-NAME_STUDENT, I-NAME_STUDENT, O, O...  \n",
       "4     [O, O, O, B-NAME_STUDENT, I-NAME_STUDENT, O, O...  \n",
       "...                                                 ...  \n",
       "4429  [O, O, B-NAME_STUDENT, I-NAME_STUDENT, O, O, O...  \n",
       "4430  [O, O, O, O, B-NAME_STUDENT, I-NAME_STUDENT, O...  \n",
       "4431  [O, O, O, B-NAME_STUDENT, I-NAME_STUDENT, O, O...  \n",
       "4432  [O, B-NAME_STUDENT, I-NAME_STUDENT, O, O, O, O...  \n",
       "4433  [O, O, B-NAME_STUDENT, I-NAME_STUDENT, O, O, O...  \n",
       "\n",
       "[4434 rows x 5 columns]"
      ]
     },
     "execution_count": 32,
     "metadata": {},
     "output_type": "execute_result"
    }
   ],
   "source": [
    "df_train_external"
   ]
  },
  {
   "cell_type": "code",
   "execution_count": 33,
   "metadata": {},
   "outputs": [
    {
     "name": "stdout",
     "output_type": "stream",
     "text": [
      "original train set:  6126\n",
      "combined train set:  10560\n"
     ]
    }
   ],
   "source": [
    "print('original train set: ', len(train_set))\n",
    "train_set_with_external_samples = pd.concat([train_set, df_train_external], axis=0)\n",
    "print('combined train set: ', len(train_set_with_external_samples))"
   ]
  },
  {
   "cell_type": "code",
   "execution_count": 34,
   "metadata": {},
   "outputs": [],
   "source": [
    "label_list = ['O','B-NAME_STUDENT','I-NAME_STUDENT','B-EMAIL','I-EMAIL','B-USERNAME','I-USERNAME','B-ID_NUM','I-ID_NUM','B-PHONE_NUM',\n",
    "              'I-PHONE_NUM','B-URL_PERSONAL','I-URL_PERSONAL','B-STREET_ADDRESS','I-STREET_ADDRESS']"
   ]
  },
  {
   "cell_type": "code",
   "execution_count": 35,
   "metadata": {},
   "outputs": [],
   "source": [
    "id2label = {i: label for i, label in enumerate(label_list)}\n",
    "label2id = {v: k for k, v in id2label.items()}"
   ]
  },
  {
   "cell_type": "code",
   "execution_count": 36,
   "metadata": {},
   "outputs": [],
   "source": [
    "def mapped_labels(labels):\n",
    "    mapped_labels = pd.DataFrame({\n",
    "                        'mapped_labels': labels\n",
    "                    })['mapped_labels'].map(label2id).tolist()\n",
    "    return mapped_labels"
   ]
  },
  {
   "cell_type": "code",
   "execution_count": 37,
   "metadata": {},
   "outputs": [
    {
     "data": {
      "text/html": [
       "<div>\n",
       "<style scoped>\n",
       "    .dataframe tbody tr th:only-of-type {\n",
       "        vertical-align: middle;\n",
       "    }\n",
       "\n",
       "    .dataframe tbody tr th {\n",
       "        vertical-align: top;\n",
       "    }\n",
       "\n",
       "    .dataframe thead th {\n",
       "        text-align: right;\n",
       "    }\n",
       "</style>\n",
       "<table border=\"1\" class=\"dataframe\">\n",
       "  <thead>\n",
       "    <tr style=\"text-align: right;\">\n",
       "      <th></th>\n",
       "      <th>document</th>\n",
       "      <th>full_text</th>\n",
       "      <th>tokens</th>\n",
       "      <th>trailing_whitespace</th>\n",
       "      <th>labels</th>\n",
       "      <th>mapped_labels</th>\n",
       "    </tr>\n",
       "  </thead>\n",
       "  <tbody>\n",
       "    <tr>\n",
       "      <th>1138</th>\n",
       "      <td>9924</td>\n",
       "      <td>ADNOC Classification: Internal\\n\\nReflection –...</td>\n",
       "      <td>[ADNOC, Classification, :, Internal, \\n\\n, Ref...</td>\n",
       "      <td>[True, False, True, False, False, True, True, ...</td>\n",
       "      <td>[O, O, O, O, O, O, O, O, O, O, O, O, O, O, O, ...</td>\n",
       "      <td>[0, 0, 0, 0, 0, 0, 0, 0, 0, 0, 0, 0, 0, 0, 0, ...</td>\n",
       "    </tr>\n",
       "    <tr>\n",
       "      <th>3499</th>\n",
       "      <td>15034</td>\n",
       "      <td>Final Assignment\\n\\nChallenge &amp; Selection\\n\\nW...</td>\n",
       "      <td>[Final, Assignment, \\n\\n, Challenge, &amp;, Select...</td>\n",
       "      <td>[True, False, False, True, True, False, False,...</td>\n",
       "      <td>[O, O, O, O, O, O, O, O, O, O, O, O, O, O, O, ...</td>\n",
       "      <td>[0, 0, 0, 0, 0, 0, 0, 0, 0, 0, 0, 0, 0, 0, 0, ...</td>\n",
       "    </tr>\n",
       "    <tr>\n",
       "      <th>6490</th>\n",
       "      <td>22000</td>\n",
       "      <td>Challenge &amp; Selection   Part of my role as Pro...</td>\n",
       "      <td>[Challenge, &amp;, Selection,   , Part, of, my, ro...</td>\n",
       "      <td>[True, True, True, False, True, True, True, Tr...</td>\n",
       "      <td>[O, O, O, O, O, O, O, O, O, O, O, O, O, O, O, ...</td>\n",
       "      <td>[0, 0, 0, 0, 0, 0, 0, 0, 0, 0, 0, 0, 0, 0, 0, ...</td>\n",
       "    </tr>\n",
       "  </tbody>\n",
       "</table>\n",
       "</div>"
      ],
      "text/plain": [
       "      document                                          full_text  \\\n",
       "1138      9924  ADNOC Classification: Internal\\n\\nReflection –...   \n",
       "3499     15034  Final Assignment\\n\\nChallenge & Selection\\n\\nW...   \n",
       "6490     22000  Challenge & Selection   Part of my role as Pro...   \n",
       "\n",
       "                                                 tokens  \\\n",
       "1138  [ADNOC, Classification, :, Internal, \\n\\n, Ref...   \n",
       "3499  [Final, Assignment, \\n\\n, Challenge, &, Select...   \n",
       "6490  [Challenge, &, Selection,   , Part, of, my, ro...   \n",
       "\n",
       "                                    trailing_whitespace  \\\n",
       "1138  [True, False, True, False, False, True, True, ...   \n",
       "3499  [True, False, False, True, True, False, False,...   \n",
       "6490  [True, True, True, False, True, True, True, Tr...   \n",
       "\n",
       "                                                 labels  \\\n",
       "1138  [O, O, O, O, O, O, O, O, O, O, O, O, O, O, O, ...   \n",
       "3499  [O, O, O, O, O, O, O, O, O, O, O, O, O, O, O, ...   \n",
       "6490  [O, O, O, O, O, O, O, O, O, O, O, O, O, O, O, ...   \n",
       "\n",
       "                                          mapped_labels  \n",
       "1138  [0, 0, 0, 0, 0, 0, 0, 0, 0, 0, 0, 0, 0, 0, 0, ...  \n",
       "3499  [0, 0, 0, 0, 0, 0, 0, 0, 0, 0, 0, 0, 0, 0, 0, ...  \n",
       "6490  [0, 0, 0, 0, 0, 0, 0, 0, 0, 0, 0, 0, 0, 0, 0, ...  "
      ]
     },
     "execution_count": 37,
     "metadata": {},
     "output_type": "execute_result"
    }
   ],
   "source": [
    "train_set_with_external_samples['mapped_labels'] = train_set_with_external_samples['labels'].apply(mapped_labels)\n",
    "train_set_with_external_samples.head(3)"
   ]
  },
  {
   "cell_type": "code",
   "execution_count": 38,
   "metadata": {},
   "outputs": [
    {
     "data": {
      "text/html": [
       "<div>\n",
       "<style scoped>\n",
       "    .dataframe tbody tr th:only-of-type {\n",
       "        vertical-align: middle;\n",
       "    }\n",
       "\n",
       "    .dataframe tbody tr th {\n",
       "        vertical-align: top;\n",
       "    }\n",
       "\n",
       "    .dataframe thead th {\n",
       "        text-align: right;\n",
       "    }\n",
       "</style>\n",
       "<table border=\"1\" class=\"dataframe\">\n",
       "  <thead>\n",
       "    <tr style=\"text-align: right;\">\n",
       "      <th></th>\n",
       "      <th>document</th>\n",
       "      <th>full_text</th>\n",
       "      <th>tokens</th>\n",
       "      <th>trailing_whitespace</th>\n",
       "      <th>labels</th>\n",
       "      <th>mapped_labels</th>\n",
       "    </tr>\n",
       "  </thead>\n",
       "  <tbody>\n",
       "    <tr>\n",
       "      <th>514</th>\n",
       "      <td>8266</td>\n",
       "      <td>Mohammed Isah    11-08-2020\\n\\nReflection – St...</td>\n",
       "      <td>[Mohammed, Isah,    , 11, -, 08, -, 2020, \\n\\n...</td>\n",
       "      <td>[True, True, False, False, False, False, False...</td>\n",
       "      <td>[B-NAME_STUDENT, I-NAME_STUDENT, O, O, O, O, O...</td>\n",
       "      <td>[1, 2, 0, 0, 0, 0, 0, 0, 0, 0, 0, 0, 0, 0, 0, ...</td>\n",
       "    </tr>\n",
       "    <tr>\n",
       "      <th>6798</th>\n",
       "      <td>22672</td>\n",
       "      <td>Challenge:    I am working as an acting Team L...</td>\n",
       "      <td>[Challenge, :,    , I, am, working, as, an, ac...</td>\n",
       "      <td>[False, True, False, True, True, True, True, T...</td>\n",
       "      <td>[O, O, O, O, O, O, O, O, O, O, O, O, O, O, O, ...</td>\n",
       "      <td>[0, 0, 0, 0, 0, 0, 0, 0, 0, 0, 0, 0, 0, 0, 0, ...</td>\n",
       "    </tr>\n",
       "    <tr>\n",
       "      <th>3753</th>\n",
       "      <td>15685</td>\n",
       "      <td>REFLECTION\\n\\n1. Challenge\\n\\nI work at an Ele...</td>\n",
       "      <td>[REFLECTION, \\n\\n, 1, ., Challenge, \\n\\n, I, w...</td>\n",
       "      <td>[False, False, False, True, False, False, True...</td>\n",
       "      <td>[O, O, O, O, O, O, O, O, O, O, O, O, O, O, O, ...</td>\n",
       "      <td>[0, 0, 0, 0, 0, 0, 0, 0, 0, 0, 0, 0, 0, 0, 0, ...</td>\n",
       "    </tr>\n",
       "  </tbody>\n",
       "</table>\n",
       "</div>"
      ],
      "text/plain": [
       "      document                                          full_text  \\\n",
       "514       8266  Mohammed Isah    11-08-2020\\n\\nReflection – St...   \n",
       "6798     22672  Challenge:    I am working as an acting Team L...   \n",
       "3753     15685  REFLECTION\\n\\n1. Challenge\\n\\nI work at an Ele...   \n",
       "\n",
       "                                                 tokens  \\\n",
       "514   [Mohammed, Isah,    , 11, -, 08, -, 2020, \\n\\n...   \n",
       "6798  [Challenge, :,    , I, am, working, as, an, ac...   \n",
       "3753  [REFLECTION, \\n\\n, 1, ., Challenge, \\n\\n, I, w...   \n",
       "\n",
       "                                    trailing_whitespace  \\\n",
       "514   [True, True, False, False, False, False, False...   \n",
       "6798  [False, True, False, True, True, True, True, T...   \n",
       "3753  [False, False, False, True, False, False, True...   \n",
       "\n",
       "                                                 labels  \\\n",
       "514   [B-NAME_STUDENT, I-NAME_STUDENT, O, O, O, O, O...   \n",
       "6798  [O, O, O, O, O, O, O, O, O, O, O, O, O, O, O, ...   \n",
       "3753  [O, O, O, O, O, O, O, O, O, O, O, O, O, O, O, ...   \n",
       "\n",
       "                                          mapped_labels  \n",
       "514   [1, 2, 0, 0, 0, 0, 0, 0, 0, 0, 0, 0, 0, 0, 0, ...  \n",
       "6798  [0, 0, 0, 0, 0, 0, 0, 0, 0, 0, 0, 0, 0, 0, 0, ...  \n",
       "3753  [0, 0, 0, 0, 0, 0, 0, 0, 0, 0, 0, 0, 0, 0, 0, ...  "
      ]
     },
     "execution_count": 38,
     "metadata": {},
     "output_type": "execute_result"
    }
   ],
   "source": [
    "test_set['mapped_labels'] = test_set['labels'].apply(mapped_labels)\n",
    "test_set.head(3)"
   ]
  },
  {
   "cell_type": "code",
   "execution_count": 39,
   "metadata": {},
   "outputs": [
    {
     "name": "stdout",
     "output_type": "stream",
     "text": [
      "5272 left after filtering.\n"
     ]
    }
   ],
   "source": [
    "train_set_with_external_samples['is_labels'] = train_set_with_external_samples['labels'].apply(lambda labels: any(label != 'O' for label in labels))\n",
    "train_set_with_external_samples_pos = train_set_with_external_samples[train_set_with_external_samples['is_labels'] == True]\n",
    "print(len(train_set_with_external_samples_pos), \"left after filtering.\")"
   ]
  },
  {
   "cell_type": "code",
   "execution_count": 40,
   "metadata": {},
   "outputs": [],
   "source": [
    "def create_dataset(df):\n",
    "    ds = Dataset.from_dict({\n",
    "        'document': [d for d in df['document']],\n",
    "        'full_text': [ft for ft in df['full_text']],\n",
    "        'tokens': [t for t in df['tokens']],\n",
    "        'trailing_whitespace': [tw for tw in df['trailing_whitespace']],\n",
    "        'labels': [l for l in df['labels']],\n",
    "        'mapped_labels': [ml for ml in df['mapped_labels']]\n",
    "    })\n",
    "    return ds"
   ]
  },
  {
   "cell_type": "code",
   "execution_count": 41,
   "metadata": {},
   "outputs": [],
   "source": [
    "train_set = create_dataset(train_set_with_external_samples_pos)\n",
    "test_set = create_dataset(test_set)"
   ]
  },
  {
   "cell_type": "code",
   "execution_count": 42,
   "metadata": {},
   "outputs": [],
   "source": [
    "###  Select the optimal fine-tuned model from above comparative experiment\n",
    "### Roberta performed best\n",
    "model_path = 'C:\\\\Users\\\\Admin\\\\Downloads\\\\output\\\\Roberta\\\\roberta_best'\n",
    "tokenizer = AutoTokenizer.from_pretrained(model_path,add_prefix_space=True)"
   ]
  },
  {
   "cell_type": "code",
   "execution_count": 43,
   "metadata": {},
   "outputs": [],
   "source": [
    "def align_labels_with_tokens(labels, word_ids):\n",
    "    new_labels = []\n",
    "    current_word = None\n",
    "    for word_id in word_ids:\n",
    "        if word_id != current_word:\n",
    "            # Start of a new word!\n",
    "            current_word = word_id\n",
    "            label = -100 if word_id is None else labels[word_id]\n",
    "            new_labels.append(label)\n",
    "        elif word_id is None:\n",
    "            # Special token\n",
    "            new_labels.append(-100)\n",
    "        else:\n",
    "            # Same word as previous token\n",
    "            label = labels[word_id]\n",
    "            # If the label is B-XXX we change it to I-XXX\n",
    "            if label % 2 == 1:\n",
    "                label += 1\n",
    "            new_labels.append(label)\n",
    "\n",
    "    return new_labels"
   ]
  },
  {
   "cell_type": "code",
   "execution_count": 44,
   "metadata": {},
   "outputs": [],
   "source": [
    "def tokenize_and_align_labels(examples):\n",
    "    tokenized_inputs = tokenizer(\n",
    "        examples[\"tokens\"], truncation=True, is_split_into_words=True, max_length=512\n",
    "    )\n",
    "    all_labels = examples[\"mapped_labels\"]\n",
    "    new_labels = []\n",
    "    for i, labels in enumerate(all_labels):\n",
    "        word_ids = tokenized_inputs.word_ids(i)\n",
    "        new_labels.append(align_labels_with_tokens(labels, word_ids))\n",
    "\n",
    "    tokenized_inputs[\"labels\"] = new_labels\n",
    "    return tokenized_inputs"
   ]
  },
  {
   "cell_type": "code",
   "execution_count": 45,
   "metadata": {},
   "outputs": [
    {
     "data": {
      "application/vnd.jupyter.widget-view+json": {
       "model_id": "3481d7d5661a46cc94a6adbbe56bd645",
       "version_major": 2,
       "version_minor": 0
      },
      "text/plain": [
       "Map:   0%|          | 0/5272 [00:00<?, ? examples/s]"
      ]
     },
     "metadata": {},
     "output_type": "display_data"
    },
    {
     "data": {
      "application/vnd.jupyter.widget-view+json": {
       "model_id": "fdf210658dfe4cd199fb543642bd4503",
       "version_major": 2,
       "version_minor": 0
      },
      "text/plain": [
       "Map:   0%|          | 0/681 [00:00<?, ? examples/s]"
      ]
     },
     "metadata": {},
     "output_type": "display_data"
    }
   ],
   "source": [
    "tokenized_train = train_set.map(\n",
    "    tokenize_and_align_labels,\n",
    "    batched=True\n",
    ")\n",
    "tokenized_valid = test_set.map(\n",
    "    tokenize_and_align_labels,\n",
    "    batched=True\n",
    ")\n"
   ]
  },
  {
   "cell_type": "code",
   "execution_count": 46,
   "metadata": {},
   "outputs": [],
   "source": [
    "data_collator = DataCollatorForTokenClassification(tokenizer=tokenizer, pad_to_multiple_of=16)"
   ]
  },
  {
   "cell_type": "code",
   "execution_count": 47,
   "metadata": {},
   "outputs": [],
   "source": [
    "from seqeval.metrics import recall_score, precision_score\n",
    "from seqeval.metrics import classification_report\n",
    "from seqeval.metrics import f1_score\n",
    "\n",
    "def compute_metrics(p, label_list):\n",
    "    predictions, labels = p\n",
    "    predictions = np.argmax(predictions, axis=2)\n",
    "\n",
    "    # Remove ignored index (special tokens)\n",
    "    true_predictions = [\n",
    "        [label_list[p] for (p, l) in zip(prediction, label) if l != -100]\n",
    "        for prediction, label in zip(predictions, labels)\n",
    "    ]\n",
    "    true_labels = [\n",
    "        [label_list[l] for (p, l) in zip(prediction, label) if l != -100]\n",
    "        for prediction, label in zip(predictions, labels)\n",
    "    ]\n",
    "    \n",
    "    recall = recall_score(true_labels, true_predictions)\n",
    "    precision = precision_score(true_labels, true_predictions)\n",
    "    if precision == 0 and recall == 0:\n",
    "        f1_score = 0\n",
    "    else:\n",
    "        f1_score = (1 + 5*5) * recall * precision / (5*5*precision + recall)\n",
    "    \n",
    "    results = {\n",
    "        'recall': recall,\n",
    "        'precision': precision,\n",
    "        'f1': f1_score\n",
    "    }\n",
    "    return results"
   ]
  },
  {
   "cell_type": "code",
   "execution_count": 48,
   "metadata": {},
   "outputs": [],
   "source": [
    "model = AutoModelForTokenClassification.from_pretrained(\n",
    "    model_path,\n",
    "    num_labels=15,\n",
    "    id2label=id2label,\n",
    "    label2id=label2id,\n",
    "    ignore_mismatched_sizes=True\n",
    ")"
   ]
  },
  {
   "cell_type": "code",
   "execution_count": 49,
   "metadata": {},
   "outputs": [],
   "source": [
    "training_args = TrainingArguments(\n",
    "    output_dir='output',\n",
    "    learning_rate=2.5e-5,\n",
    "    per_device_train_batch_size=1,\n",
    "    per_device_eval_batch_size=1,\n",
    "    num_train_epochs=3,\n",
    "    weight_decay=0.02,\n",
    "    evaluation_strategy='epoch',\n",
    "    save_strategy='epoch',\n",
    "    load_best_model_at_end=True,\n",
    "    report_to='none'\n",
    ")"
   ]
  },
  {
   "cell_type": "code",
   "execution_count": 50,
   "metadata": {},
   "outputs": [],
   "source": [
    "def make_trainer(train, valid):\n",
    "    trainer = Trainer(\n",
    "        model=model,\n",
    "        args=training_args,\n",
    "        train_dataset=train,\n",
    "        eval_dataset=valid,\n",
    "        tokenizer=tokenizer,\n",
    "        data_collator=data_collator,\n",
    "        compute_metrics=partial(compute_metrics, label_list=label_list)\n",
    "    )\n",
    "    return trainer"
   ]
  },
  {
   "cell_type": "code",
   "execution_count": 51,
   "metadata": {},
   "outputs": [
    {
     "name": "stderr",
     "output_type": "stream",
     "text": [
      "You're using a RobertaTokenizerFast tokenizer. Please note that with a fast tokenizer, using the `__call__` method is faster than using a method to encode the text followed by a call to the `pad` method to get a padded encoding.\n"
     ]
    },
    {
     "data": {
      "text/html": [
       "\n",
       "    <div>\n",
       "      \n",
       "      <progress value='681' max='681' style='width:300px; height:20px; vertical-align: middle;'></progress>\n",
       "      [681/681 00:11]\n",
       "    </div>\n",
       "    "
      ],
      "text/plain": [
       "<IPython.core.display.HTML object>"
      ]
     },
     "metadata": {},
     "output_type": "display_data"
    },
    {
     "name": "stdout",
     "output_type": "stream",
     "text": [
      "Fine-tuned model results for epoch 2:  {'eval_loss': 0.0009061108576133847, 'eval_recall': 0.9432624113475178, 'eval_precision': 0.8109756097560976, 'eval_f1': 0.9373814041745729, 'eval_runtime': 14.0834, 'eval_samples_per_second': 48.355, 'eval_steps_per_second': 48.355}\n"
     ]
    }
   ],
   "source": [
    "trainer = make_trainer(tokenized_train, tokenized_valid)\n",
    "untrained_eval_results = trainer.evaluate(tokenized_valid)\n",
    "print('Fine-tuned model results for epoch 2: ',untrained_eval_results)"
   ]
  },
  {
   "cell_type": "code",
   "execution_count": 52,
   "metadata": {},
   "outputs": [
    {
     "name": "stdout",
     "output_type": "stream",
     "text": [
      "Starting training...\n"
     ]
    },
    {
     "name": "stderr",
     "output_type": "stream",
     "text": [
      "C:\\ProgramData\\anaconda3\\Lib\\site-packages\\transformers\\optimization.py:391: FutureWarning: This implementation of AdamW is deprecated and will be removed in a future version. Use the PyTorch implementation torch.optim.AdamW instead, or set `no_deprecation_warning=True` to disable this warning\n",
      "  warnings.warn(\n"
     ]
    },
    {
     "data": {
      "text/html": [
       "\n",
       "    <div>\n",
       "      \n",
       "      <progress value='15816' max='15816' style='width:300px; height:20px; vertical-align: middle;'></progress>\n",
       "      [15816/15816 19:07, Epoch 3/3]\n",
       "    </div>\n",
       "    <table border=\"1\" class=\"dataframe\">\n",
       "  <thead>\n",
       " <tr style=\"text-align: left;\">\n",
       "      <th>Epoch</th>\n",
       "      <th>Training Loss</th>\n",
       "      <th>Validation Loss</th>\n",
       "      <th>Recall</th>\n",
       "      <th>Precision</th>\n",
       "      <th>F1</th>\n",
       "    </tr>\n",
       "  </thead>\n",
       "  <tbody>\n",
       "    <tr>\n",
       "      <td>1</td>\n",
       "      <td>0.009200</td>\n",
       "      <td>0.001954</td>\n",
       "      <td>0.929078</td>\n",
       "      <td>0.752874</td>\n",
       "      <td>0.920789</td>\n",
       "    </tr>\n",
       "    <tr>\n",
       "      <td>2</td>\n",
       "      <td>0.005700</td>\n",
       "      <td>0.002457</td>\n",
       "      <td>0.829787</td>\n",
       "      <td>0.769737</td>\n",
       "      <td>0.827305</td>\n",
       "    </tr>\n",
       "    <tr>\n",
       "      <td>3</td>\n",
       "      <td>0.003800</td>\n",
       "      <td>0.001774</td>\n",
       "      <td>0.964539</td>\n",
       "      <td>0.809524</td>\n",
       "      <td>0.957487</td>\n",
       "    </tr>\n",
       "  </tbody>\n",
       "</table><p>"
      ],
      "text/plain": [
       "<IPython.core.display.HTML object>"
      ]
     },
     "metadata": {},
     "output_type": "display_data"
    },
    {
     "data": {
      "text/plain": [
       "TrainOutput(global_step=15816, training_loss=0.008624976324685367, metrics={'train_runtime': 1147.9853, 'train_samples_per_second': 13.777, 'train_steps_per_second': 13.777, 'total_flos': 3270260095028640.0, 'train_loss': 0.008624976324685367, 'epoch': 3.0})"
      ]
     },
     "execution_count": 52,
     "metadata": {},
     "output_type": "execute_result"
    }
   ],
   "source": [
    "trainer = make_trainer(tokenized_train, tokenized_valid)\n",
    "print(\"Starting training...\")\n",
    "trainer.train()"
   ]
  },
  {
   "cell_type": "code",
   "execution_count": null,
   "metadata": {},
   "outputs": [],
   "source": []
  }
 ],
 "metadata": {
  "colab": {
   "provenance": []
  },
  "kaggle": {
   "accelerator": "gpu",
   "dataSources": [
    {
     "datasetId": 4837625,
     "sourceId": 8173313,
     "sourceType": "datasetVersion"
    }
   ],
   "dockerImageVersionId": 30699,
   "isGpuEnabled": true,
   "isInternetEnabled": true,
   "language": "python",
   "sourceType": "notebook"
  },
  "kernelspec": {
   "display_name": "Python 3 (ipykernel)",
   "language": "python",
   "name": "python3"
  },
  "language_info": {
   "codemirror_mode": {
    "name": "ipython",
    "version": 3
   },
   "file_extension": ".py",
   "mimetype": "text/x-python",
   "name": "python",
   "nbconvert_exporter": "python",
   "pygments_lexer": "ipython3",
   "version": "3.11.7"
  }
 },
 "nbformat": 4,
 "nbformat_minor": 4
}
